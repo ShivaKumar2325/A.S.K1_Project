{
 "cells": [
  {
   "cell_type": "code",
   "execution_count": 1,
   "id": "77504008",
   "metadata": {
    "_cell_guid": "b1076dfc-b9ad-4769-8c92-a6c4dae69d19",
    "_uuid": "8f2839f25d086af736a60e9eeb907d3b93b6e0e5",
    "execution": {
     "iopub.execute_input": "2023-09-09T17:28:22.165486Z",
     "iopub.status.busy": "2023-09-09T17:28:22.165025Z",
     "iopub.status.idle": "2023-09-09T17:28:22.591988Z",
     "shell.execute_reply": "2023-09-09T17:28:22.590778Z"
    },
    "papermill": {
     "duration": 0.436957,
     "end_time": "2023-09-09T17:28:22.595457",
     "exception": false,
     "start_time": "2023-09-09T17:28:22.158500",
     "status": "completed"
    },
    "tags": []
   },
   "outputs": [
    {
     "name": "stdout",
     "output_type": "stream",
     "text": [
      "/kaggle/input/quality-of-red-wine/winequality-red.csv\n"
     ]
    }
   ],
   "source": [
    "# This Python 3 environment comes with many helpful analytics libraries installed\n",
    "# It is defined by the kaggle/python Docker image: https://github.com/kaggle/docker-python\n",
    "# For example, here's several helpful packages to load\n",
    "\n",
    "import numpy as np # linear algebra\n",
    "import pandas as pd # data processing, CSV file I/O (e.g. pd.read_csv)\n",
    "\n",
    "# Input data files are available in the read-only \"../input/\" directory\n",
    "# For example, running this (by clicking run or pressing Shift+Enter) will list all files under the input directory\n",
    "\n",
    "import os\n",
    "for dirname, _, filenames in os.walk('/kaggle/input'):\n",
    "    for filename in filenames:\n",
    "        print(os.path.join(dirname, filename))\n",
    "\n",
    "# You can write up to 20GB to the current directory (/kaggle/working/) that gets preserved as output when you create a version using \"Save & Run All\" \n",
    "# You can also write temporary files to /kaggle/temp/, but they won't be saved outside of the current session"
   ]
  },
  {
   "cell_type": "markdown",
   "id": "03bc26f0",
   "metadata": {
    "papermill": {
     "duration": 0.003725,
     "end_time": "2023-09-09T17:28:22.603469",
     "exception": false,
     "start_time": "2023-09-09T17:28:22.599744",
     "status": "completed"
    },
    "tags": []
   },
   "source": [
    "# Goal of this project"
   ]
  },
  {
   "cell_type": "markdown",
   "id": "55f7e809",
   "metadata": {
    "papermill": {
     "duration": 0.003624,
     "end_time": "2023-09-09T17:28:22.610955",
     "exception": false,
     "start_time": "2023-09-09T17:28:22.607331",
     "status": "completed"
    },
    "tags": []
   },
   "source": []
  },
  {
   "cell_type": "code",
   "execution_count": null,
   "id": "84016dc3",
   "metadata": {
    "papermill": {
     "duration": 0.003686,
     "end_time": "2023-09-09T17:28:22.618457",
     "exception": false,
     "start_time": "2023-09-09T17:28:22.614771",
     "status": "completed"
    },
    "tags": []
   },
   "outputs": [],
   "source": []
  }
 ],
 "kernelspec": {
  "display_name": "Python 3",
  "language": "python",
  "name": "python3"
 },
 "language_info": {
  "codemirror_mode": {
   "name": "ipython",
   "version": 3
  },
  "file_extension": ".py",
  "mimetype": "text/x-python",
  "name": "python",
  "nbconvert_exporter": "python",
  "pygments_lexer": "ipython3",
  "version": "3.6.4"
 },
 "metadata": {
  "kernelspec": {
   "display_name": "Python 3",
   "language": "python",
   "name": "python3"
  },
  "language_info": {
   "codemirror_mode": {
    "name": "ipython",
    "version": 3
   },
   "file_extension": ".py",
   "mimetype": "text/x-python",
   "name": "python",
   "nbconvert_exporter": "python",
   "pygments_lexer": "ipython3",
   "version": "3.10.12"
  },
  "papermill": {
   "default_parameters": {},
   "duration": 4.543879,
   "end_time": "2023-09-09T17:28:23.042160",
   "environment_variables": {},
   "exception": null,
   "input_path": "__notebook__.ipynb",
   "output_path": "__notebook__.ipynb",
   "parameters": {},
   "start_time": "2023-09-09T17:28:18.498281",
   "version": "2.4.0"
  }
 },
 "nbformat": 4,
 "nbformat_minor": 5
}
